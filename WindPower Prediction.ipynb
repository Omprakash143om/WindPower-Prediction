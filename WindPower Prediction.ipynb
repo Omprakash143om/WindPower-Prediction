{
  "nbformat": 4,
  "nbformat_minor": 0,
  "metadata": {
    "colab": {
      "provenance": [],
      "authorship_tag": "ABX9TyPajL4yObRUwoLpMC89nM+b",
      "include_colab_link": true
    },
    "kernelspec": {
      "name": "python3",
      "display_name": "Python 3"
    },
    "language_info": {
      "name": "python"
    }
  },
  "cells": [
    {
      "cell_type": "markdown",
      "metadata": {
        "id": "view-in-github",
        "colab_type": "text"
      },
      "source": [
        "<a href=\"https://colab.research.google.com/github/Omprakash143om/WindPower-Prediction/blob/PROGRAMS/WindPower%20Prediction.ipynb\" target=\"_parent\"><img src=\"https://colab.research.google.com/assets/colab-badge.svg\" alt=\"Open In Colab\"/></a>"
      ]
    },
    {
      "cell_type": "code",
      "execution_count": null,
      "metadata": {
        "colab": {
          "base_uri": "https://localhost:8080/"
        },
        "id": "AmiQdIa3yRlC",
        "outputId": "9fe2c63a-a46d-4cbb-b064-4c1019cfa087"
      },
      "outputs": [
        {
          "output_type": "stream",
          "name": "stdout",
          "text": [
            "              Date/Time  LV ActivePower (kW)  Wind Speed (m/s)  \\\n",
            "0       01 01 2018 0:00           380.047791          5.311336   \n",
            "1       01 01 2018 0:10           453.769196          5.672167   \n",
            "2       01 01 2018 0:20           306.376587          5.216037   \n",
            "3       01 01 2018 0:30           419.645904          5.659674   \n",
            "4       01 01 2018 0:40           380.650696          5.577941   \n",
            "...                 ...                  ...               ...   \n",
            "50525  31 12 2018 23:10          2963.980957         11.404030   \n",
            "50526  31 12 2018 23:20          1684.353027          7.332648   \n",
            "50527  31 12 2018 23:30          2201.106934          8.435358   \n",
            "50528  31 12 2018 23:40          2515.694092          9.421366   \n",
            "50529  31 12 2018 23:50          2820.466064          9.979332   \n",
            "\n",
            "       Theoretical_Power_Curve (KWh)  Wind Direction (°)  \n",
            "0                         416.328908          259.994904  \n",
            "1                         519.917511          268.641113  \n",
            "2                         390.900016          272.564789  \n",
            "3                         516.127569          271.258087  \n",
            "4                         491.702972          265.674286  \n",
            "...                              ...                 ...  \n",
            "50525                    3397.190793           80.502724  \n",
            "50526                    1173.055771           84.062599  \n",
            "50527                    1788.284755           84.742500  \n",
            "50528                    2418.382503           84.297913  \n",
            "50529                    2779.184096           82.274620  \n",
            "\n",
            "[50530 rows x 5 columns]\n"
          ]
        },
        {
          "output_type": "stream",
          "name": "stderr",
          "text": [
            "IOPub data rate exceeded.\n",
            "The notebook server will temporarily stop sending output\n",
            "to the client in order to avoid crashing it.\n",
            "To change this limit, set the config variable\n",
            "`--NotebookApp.iopub_data_rate_limit`.\n",
            "\n",
            "Current values:\n",
            "NotebookApp.iopub_data_rate_limit=1000000.0 (bytes/sec)\n",
            "NotebookApp.rate_limit_window=3.0 (secs)\n",
            "\n"
          ]
        }
      ],
      "source": [
        "import pandas as pd\n",
        "df = pd.read_csv('windpower.csv')\n",
        "print(df)\n",
        "print(df.to_string())"
      ]
    },
    {
      "cell_type": "code",
      "source": [
        "import pandas as pd\n",
        "df = pd.read_csv('windpower.csv')\n",
        "print(df.head(10))"
      ],
      "metadata": {
        "colab": {
          "base_uri": "https://localhost:8080/"
        },
        "id": "mI1240jDzYD6",
        "outputId": "2552149f-3ff0-47b0-88ec-53074ea5be04"
      },
      "execution_count": null,
      "outputs": [
        {
          "output_type": "stream",
          "name": "stdout",
          "text": [
            "         Date/Time  LV ActivePower (kW)  Wind Speed (m/s)  \\\n",
            "0  01 01 2018 0:00           380.047791          5.311336   \n",
            "1  01 01 2018 0:10           453.769196          5.672167   \n",
            "2  01 01 2018 0:20           306.376587          5.216037   \n",
            "3  01 01 2018 0:30           419.645904          5.659674   \n",
            "4  01 01 2018 0:40           380.650696          5.577941   \n",
            "5  01 01 2018 0:50           402.391998          5.604052   \n",
            "6  01 01 2018 1:00           447.605713          5.793008   \n",
            "7  01 01 2018 1:10           387.242188          5.306050   \n",
            "8  01 01 2018 1:20           463.651215          5.584629   \n",
            "9  01 01 2018 1:30           439.725708          5.523228   \n",
            "\n",
            "   Theoretical_Power_Curve (KWh)  Wind Direction (°)  \n",
            "0                     416.328908          259.994904  \n",
            "1                     519.917511          268.641113  \n",
            "2                     390.900016          272.564789  \n",
            "3                     516.127569          271.258087  \n",
            "4                     491.702972          265.674286  \n",
            "5                     499.436385          264.578613  \n",
            "6                     557.372363          266.163605  \n",
            "7                     414.898179          257.949493  \n",
            "8                     493.677652          253.480698  \n",
            "9                     475.706783          258.723785  \n"
          ]
        }
      ]
    },
    {
      "cell_type": "code",
      "source": [
        "import pandas as pd\n",
        "df = pd.read_csv('windpower.csv')\n",
        "print(df.tail())"
      ],
      "metadata": {
        "colab": {
          "base_uri": "https://localhost:8080/"
        },
        "id": "GZ4828yt0vL6",
        "outputId": "6e108f86-903f-409b-f8ab-040d23eca303"
      },
      "execution_count": null,
      "outputs": [
        {
          "output_type": "stream",
          "name": "stdout",
          "text": [
            "              Date/Time  LV ActivePower (kW)  Wind Speed (m/s)  \\\n",
            "50525  31 12 2018 23:10          2963.980957         11.404030   \n",
            "50526  31 12 2018 23:20          1684.353027          7.332648   \n",
            "50527  31 12 2018 23:30          2201.106934          8.435358   \n",
            "50528  31 12 2018 23:40          2515.694092          9.421366   \n",
            "50529  31 12 2018 23:50          2820.466064          9.979332   \n",
            "\n",
            "       Theoretical_Power_Curve (KWh)  Wind Direction (°)  \n",
            "50525                    3397.190793           80.502724  \n",
            "50526                    1173.055771           84.062599  \n",
            "50527                    1788.284755           84.742500  \n",
            "50528                    2418.382503           84.297913  \n",
            "50529                    2779.184096           82.274620  \n"
          ]
        }
      ]
    },
    {
      "cell_type": "code",
      "source": [
        "import pandas as pd\n",
        "df = pd.read_csv('windpower.csv')\n",
        "print(df.info())"
      ],
      "metadata": {
        "colab": {
          "base_uri": "https://localhost:8080/"
        },
        "id": "rDuRnnHg09U3",
        "outputId": "145456e9-fba1-4148-d878-e1aed7d36df4"
      },
      "execution_count": null,
      "outputs": [
        {
          "output_type": "stream",
          "name": "stdout",
          "text": [
            "<class 'pandas.core.frame.DataFrame'>\n",
            "RangeIndex: 50530 entries, 0 to 50529\n",
            "Data columns (total 5 columns):\n",
            " #   Column                         Non-Null Count  Dtype  \n",
            "---  ------                         --------------  -----  \n",
            " 0   Date/Time                      50530 non-null  object \n",
            " 1   LV ActivePower (kW)            50530 non-null  float64\n",
            " 2   Wind Speed (m/s)               50528 non-null  float64\n",
            " 3   Theoretical_Power_Curve (KWh)  50530 non-null  float64\n",
            " 4   Wind Direction (°)             50530 non-null  float64\n",
            "dtypes: float64(4), object(1)\n",
            "memory usage: 1.9+ MB\n",
            "None\n"
          ]
        }
      ]
    },
    {
      "cell_type": "code",
      "source": [
        "import pandas as pd\n",
        "df = pd.read_csv('windpower.csv')\n",
        "df[\"Wind Speed (m/s)\"].describe(include=\"all\")"
      ],
      "metadata": {
        "colab": {
          "base_uri": "https://localhost:8080/"
        },
        "id": "m5F4_vHJ1aKU",
        "outputId": "ffd64a6a-7fd0-46ef-eb25-48d202cd09b3"
      },
      "execution_count": null,
      "outputs": [
        {
          "output_type": "execute_result",
          "data": {
            "text/plain": [
              "count    50528.000000\n",
              "mean         7.558011\n",
              "std          4.227239\n",
              "min          0.000000\n",
              "25%          4.201236\n",
              "50%          7.104919\n",
              "75%         10.300220\n",
              "max         25.206011\n",
              "Name: Wind Speed (m/s), dtype: float64"
            ]
          },
          "metadata": {},
          "execution_count": 27
        }
      ]
    },
    {
      "cell_type": "code",
      "source": [
        "import pandas as pd\n",
        "df = pd.read_csv('windpower.csv')\n",
        "x = df[\"Wind Speed (m/s)\"].mean()\n",
        "df[\"Wind Speed (m/s)\"].fillna(x, inplace = True)\n",
        "print(df)\n",
        "print(df.to_string())"
      ],
      "metadata": {
        "colab": {
          "base_uri": "https://localhost:8080/"
        },
        "id": "yh8eO1jWjCRG",
        "outputId": "649ab0cb-e41e-474d-fc20-32ab6609e715"
      },
      "execution_count": null,
      "outputs": [
        {
          "output_type": "stream",
          "name": "stdout",
          "text": [
            "              Date/Time  LV ActivePower (kW)  Wind Speed (m/s)  \\\n",
            "0       01 01 2018 0:00           380.047791          5.311336   \n",
            "1       01 01 2018 0:10           453.769196          5.672167   \n",
            "2       01 01 2018 0:20           306.376587          5.216037   \n",
            "3       01 01 2018 0:30           419.645904          5.659674   \n",
            "4       01 01 2018 0:40           380.650696          5.577941   \n",
            "...                 ...                  ...               ...   \n",
            "50525  31 12 2018 23:10          2963.980957         11.404030   \n",
            "50526  31 12 2018 23:20          1684.353027          7.332648   \n",
            "50527  31 12 2018 23:30          2201.106934          8.435358   \n",
            "50528  31 12 2018 23:40          2515.694092          9.421366   \n",
            "50529  31 12 2018 23:50          2820.466064          9.979332   \n",
            "\n",
            "       Theoretical_Power_Curve (KWh)  Wind Direction (°)  \n",
            "0                         416.328908          259.994904  \n",
            "1                         519.917511          268.641113  \n",
            "2                         390.900016          272.564789  \n",
            "3                         516.127569          271.258087  \n",
            "4                         491.702972          265.674286  \n",
            "...                              ...                 ...  \n",
            "50525                    3397.190793           80.502724  \n",
            "50526                    1173.055771           84.062599  \n",
            "50527                    1788.284755           84.742500  \n",
            "50528                    2418.382503           84.297913  \n",
            "50529                    2779.184096           82.274620  \n",
            "\n",
            "[50530 rows x 5 columns]\n"
          ]
        },
        {
          "output_type": "stream",
          "name": "stderr",
          "text": [
            "IOPub data rate exceeded.\n",
            "The notebook server will temporarily stop sending output\n",
            "to the client in order to avoid crashing it.\n",
            "To change this limit, set the config variable\n",
            "`--NotebookApp.iopub_data_rate_limit`.\n",
            "\n",
            "Current values:\n",
            "NotebookApp.iopub_data_rate_limit=1000000.0 (bytes/sec)\n",
            "NotebookApp.rate_limit_window=3.0 (secs)\n",
            "\n"
          ]
        }
      ]
    },
    {
      "cell_type": "code",
      "source": [
        "import pandas as pd\n",
        "df = pd.read_csv('windpower.csv')\n",
        "df[\"Wind Speed (m/s)\"].plot(kind = 'hist')"
      ],
      "metadata": {
        "colab": {
          "base_uri": "https://localhost:8080/",
          "height": 447
        },
        "id": "v-K4rTKC38kv",
        "outputId": "327d8d4c-b714-4601-b0c9-163b78065c6a"
      },
      "execution_count": null,
      "outputs": [
        {
          "output_type": "execute_result",
          "data": {
            "text/plain": [
              "<Axes: ylabel='Frequency'>"
            ]
          },
          "metadata": {},
          "execution_count": 28
        },
        {
          "output_type": "display_data",
          "data": {
            "text/plain": [
              "<Figure size 640x480 with 1 Axes>"
            ],
            "image/png": "[encoded data removed]"
          },
          "metadata": {}
        }
      ]
    },
    {
      "cell_type": "code",
      "source": [
        "import pandas as pd\n",
        "import matplotlib.pyplot as plt\n",
        "df = pd.read_csv('windpower.csv')\n",
        "df.plot(kind = 'scatter', x = 'Wind Speed (m/s)', y = 'Theoretical_Power_Curve (KWh)')\n",
        "plt.show()"
      ],
      "metadata": {
        "colab": {
          "base_uri": "https://localhost:8080/",
          "height": 449
        },
        "id": "dz1qcukD5ZLp",
        "outputId": "260bb70e-0926-438a-d537-3257cc2b1bde"
      },
      "execution_count": null,
      "outputs": [
        {
          "output_type": "display_data",
          "data": {
            "text/plain": [
              "<Figure size 640x480 with 1 Axes>"
            ],
            "image/png": "[encoded data removed]"
          },
          "metadata": {}
        }
      ]
    },
    {
      "cell_type": "code",
      "source": [
        "import pandas as pd\n",
        "df = pd.read_csv('windpower.csv')\n",
        "print(df[(df[\"Wind Speed (m/s)\"]<5)])"
      ],
      "metadata": {
        "colab": {
          "base_uri": "https://localhost:8080/"
        },
        "id": "pT9qo7sjnMNY",
        "outputId": "b52c4939-1049-4918-8c57-bd743a9d8a57"
      },
      "execution_count": null,
      "outputs": [
        {
          "output_type": "stream",
          "name": "stdout",
          "text": [
            "              Date/Time  LV ActivePower (kW)  Wind Speed (m/s)  \\\n",
            "55      01 01 2018 9:10           408.997406          4.977198   \n",
            "64     01 01 2018 10:40           311.050903          4.960732   \n",
            "65     01 01 2018 10:50           230.055496          4.603875   \n",
            "66     01 01 2018 11:00           233.990601          4.554534   \n",
            "67     01 01 2018 11:10           175.592194          4.263629   \n",
            "...                 ...                  ...               ...   \n",
            "50495  31 12 2018 18:10           341.905487          4.556026   \n",
            "50496  31 12 2018 18:20           399.653809          4.798016   \n",
            "50497  31 12 2018 18:30           372.079590          4.795230   \n",
            "50498  31 12 2018 18:40           411.729187          4.860610   \n",
            "50499  31 12 2018 18:50           471.419708          4.994785   \n",
            "\n",
            "       Theoretical_Power_Curve (KWh)  Wind Direction (°)  \n",
            "55                        330.417630          207.997803  \n",
            "64                        326.411025          229.537506  \n",
            "65                        244.316244          231.798492  \n",
            "66                        233.632780          234.105606  \n",
            "67                        173.573663          228.776703  \n",
            "...                              ...                 ...  \n",
            "50495                     233.953613           91.588493  \n",
            "50496                     287.885241           94.329742  \n",
            "50497                     287.241996           98.706261  \n",
            "50498                     302.480001           97.239059  \n",
            "50499                     334.719439           99.136337  \n",
            "\n",
            "[15744 rows x 5 columns]\n"
          ]
        }
      ]
    }
  ]
}